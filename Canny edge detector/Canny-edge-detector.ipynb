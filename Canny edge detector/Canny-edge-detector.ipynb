{
 "cells": [
  {
   "cell_type": "code",
   "execution_count": 6,
   "metadata": {
    "collapsed": true
   },
   "outputs": [],
   "source": [
    "import cv2"
   ]
  },
  {
   "cell_type": "code",
   "execution_count": 7,
   "metadata": {
    "collapsed": true
   },
   "outputs": [],
   "source": [
    "def nothing(x):\n",
    "    pass"
   ]
  },
  {
   "cell_type": "code",
   "execution_count": 8,
   "metadata": {
    "collapsed": true
   },
   "outputs": [],
   "source": [
    "image = cv2.imread('img3.jpg')\n",
    "image = cv2.resize(image, (500,300))"
   ]
  },
  {
   "cell_type": "code",
   "execution_count": null,
   "metadata": {
    "collapsed": true
   },
   "outputs": [],
   "source": [
    "switch = '0 : OFF \\n1 : ON'\n",
    "cv2.namedWindow('canny')\n",
    "cv2.createTrackbar(switch, 'canny', 0, 1, nothing)\n",
    "cv2.createTrackbar('lower', 'canny', 0, 255, nothing)\n",
    "cv2.createTrackbar('upper', 'canny', 0, 255, nothing)\n",
    "\n",
    "while True:\n",
    "    \n",
    "    lower = cv2.getTrackbarPos('lower', 'canny')\n",
    "    upper = cv2.getTrackbarPos('upper', 'canny')\n",
    "    s = cv2.getTrackbarPos(switch, 'canny')\n",
    "    \n",
    "    if s == 0:\n",
    "        edges = image\n",
    "    else:\n",
    "        edges = cv2.Canny(image, lower, upper)\n",
    "    \n",
    "    cv2.imshow('canny', edges)\n",
    "    k = cv2.waitKey(1) & 0xFF\n",
    "    if k == 27:\n",
    "        break\n",
    "\n",
    "cv2.imwrite('base.jpg', image)\n",
    "cv2.imwrite('result.jpg', edges)\n",
    "cv2.destroyAllWindows()"
   ]
  }
 ],
 "metadata": {
  "kernelspec": {
   "display_name": "Python 3",
   "language": "python",
   "name": "python3"
  },
  "language_info": {
   "codemirror_mode": {
    "name": "ipython",
    "version": 3
   },
   "file_extension": ".py",
   "mimetype": "text/x-python",
   "name": "python",
   "nbconvert_exporter": "python",
   "pygments_lexer": "ipython3",
   "version": "3.6.3"
  }
 },
 "nbformat": 4,
 "nbformat_minor": 2
}
